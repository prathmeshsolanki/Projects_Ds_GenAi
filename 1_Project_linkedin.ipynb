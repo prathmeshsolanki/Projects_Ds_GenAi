{
 "cells": [
  {
   "cell_type": "code",
   "execution_count": 1,
   "id": "05a33b65-cd36-4c23-80dc-8c9a83741b6f",
   "metadata": {},
   "outputs": [],
   "source": [
    "#oops:"
   ]
  },
  {
   "cell_type": "code",
   "execution_count": 20,
   "id": "e87baaeb-efac-4fb9-8c89-cf92608c7765",
   "metadata": {},
   "outputs": [
    {
     "name": "stdout",
     "output_type": "stream",
     "text": [
      "Welcome to Daily Mood & Productivity Tracker\n"
     ]
    },
    {
     "name": "stdin",
     "output_type": "stream",
     "text": [
      "How are you feeling today?\n",
      "(Happy/Sad/Stressed/Motivated/Lazy):  lazy\n"
     ]
    },
    {
     "name": "stdout",
     "output_type": "stream",
     "text": [
      "Enter tasks you completed today (type 'done' to finish):\n"
     ]
    },
    {
     "name": "stdin",
     "output_type": "stream",
     "text": [
      "-  done\n"
     ]
    },
    {
     "name": "stdout",
     "output_type": "stream",
     "text": [
      "No tasks entered. Let's try again tomorrow!\n"
     ]
    }
   ],
   "source": [
    "import random\n",
    "from datetime import datetime\n",
    "\n",
    "quotes = [\n",
    "    \"Push yourself, because no one else is going to do it for you.\",\n",
    "    \"Every day is a chance to get better.\",\n",
    "    \"You're capable of amazing things!\",\n",
    "    \"Success is the sum of small efforts repeated daily.\",\n",
    "    \"Stay positive, work hard, make it happen.\",\n",
    "    \"Discipline is choosing between what you want now and what you want most.\"\n",
    "]\n",
    "\n",
    "class DayLog:\n",
    "    log_count = 0  \n",
    "    \n",
    "    def __init__(self, mood, tasks):\n",
    "        self.date = datetime.now().strftime(\"%Y-%m-%d\")\n",
    "        self.mood = mood\n",
    "        self.tasks = tasks\n",
    "        self.productivity_score = self.calculate_score()\n",
    "        DayLog.log_count += 1\n",
    "\n",
    "    def calculate_score(self):\n",
    "        base_score = len(self.tasks) * 10\n",
    "\n",
    "        mood_boost = {\n",
    "            \"happy\": 15,\n",
    "            \"motivated\": 20,\n",
    "            \"stressed\": -10,\n",
    "            \"lazy\": -15,\n",
    "            \"sad\": -5\n",
    "        }\n",
    "\n",
    "        score = base_score + mood_boost.get(self.mood.lower(), 0)\n",
    "        return max(0, min(score, 100))  \n",
    "\n",
    "    def get_random_quote(self):\n",
    "        return random.choice(quotes)\n",
    "\n",
    "    def display_log(self):\n",
    "        print(\"\\n Your Daily Log:\")\n",
    "        print(f\"Date: {self.date}\")\n",
    "        print(f\"Mood: {self.mood.capitalize()}\")\n",
    "        print(f\"Tasks Completed: {', '.join(self.tasks)}\")\n",
    "        print(f\"Productivity Score: {self.productivity_score}/100\")\n",
    "        print(f\"Quote of the Day: \\\"{self.get_random_quote()}\\\"\")\n",
    "\n",
    "    def save_to_file(self):\n",
    "        with open(\"daily_logs.txt\", \"a\") as file:\n",
    "            file.write(f\"{self.date} | Mood: {self.mood} | Tasks: {self.tasks} | Score: {self.productivity_score}\\n\")\n",
    "        print(\"Log saved to 'daily_logs.txt'.\")\n",
    "\n",
    "\n",
    "def main():\n",
    "    print(\"Welcome to Daily Mood & Productivity Tracker\")\n",
    "\n",
    "    mood = input(\"How are you feeling today?\\n(Happy/Sad/Stressed/Motivated/Lazy): \").strip()\n",
    "\n",
    "    tasks = []\n",
    "    print(\"Enter tasks you completed today (type 'done' to finish):\")\n",
    "    while True:\n",
    "        task = input(\"- \")\n",
    "        if task.lower() == \"done\":\n",
    "            break\n",
    "        elif task.strip():\n",
    "            tasks.append(task.strip())\n",
    "\n",
    "    if not tasks:\n",
    "        print(\"No tasks entered. Let's try again tomorrow!\")\n",
    "        return\n",
    "\n",
    "    today_log = DayLog(mood, tasks)\n",
    "    today_log.display_log()\n",
    "\n",
    "    save = input(\"Do you want to save this log? (yes/no): \").lower()\n",
    "    if save == \"yes\":\n",
    "        today_log.save_to_file()\n",
    "    else:\n",
    "        print(\"Log not saved. That's okay!\")\n",
    "\n",
    "result = main()\n",
    "result"
   ]
  },
  {
   "cell_type": "code",
   "execution_count": null,
   "id": "9adfc31d-9694-4489-91c9-c2c506cc93dd",
   "metadata": {},
   "outputs": [],
   "source": []
  }
 ],
 "metadata": {
  "kernelspec": {
   "display_name": "Python 3 (ipykernel)",
   "language": "python",
   "name": "python3"
  },
  "language_info": {
   "codemirror_mode": {
    "name": "ipython",
    "version": 3
   },
   "file_extension": ".py",
   "mimetype": "text/x-python",
   "name": "python",
   "nbconvert_exporter": "python",
   "pygments_lexer": "ipython3",
   "version": "3.12.4"
  }
 },
 "nbformat": 4,
 "nbformat_minor": 5
}
